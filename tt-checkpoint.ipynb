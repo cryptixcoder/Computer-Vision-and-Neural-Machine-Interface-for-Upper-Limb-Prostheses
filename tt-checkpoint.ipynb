{
 "cells": [
  {
   "cell_type": "code",
   "execution_count": null,
   "metadata": {},
   "outputs": [],
   "source": [
    "import RealTime\n",
    "import poweroff\n",
    "import threading\n",
    "#EMG ############################################################################################################\n",
    "## All you have to do is to call start_thread to start threading smoothly\n",
    "self.Real = RealTime.RealTime()\n",
    "\n",
    "# self.Real.set_GP_instance(self)\n",
    "self.Power = poweroff.poweroff()\n",
    "self.thread1 = None\n",
    "self.thread2 = None\n",
    "self.event_stop_thread1 = threading.Event()\n",
    "self.event_stop_thread2 = threading.Event()\n",
    "\n",
    "\n",
    "def start_thread1(self):\n",
    "    self.Real.Flag_predict = True\n",
    "    self.Real.b = np.empty( [0, 8] )\n",
    "    self.event_stop_thread1.clear()\n",
    "    self.thread1 = threading.Thread( target=self.loop1 )\n",
    "    self.thread1.start()\n",
    "\n",
    "\n",
    "\n",
    "def loop1(self):\n",
    "    while not self.event_stop_thread1.is_set():\n",
    "        # if not self.stop_threads.is_set():\n",
    "        if self.Real.myo_device.services.waitForNotifications( 1 ):\n",
    "            print(self.Real.predictions_array)\n",
    "            if len( self.Real.predictions_array ) % 5 == 0:\n",
    "                self.Real.predictions_array.pop( 0 )\n",
    "        else:\n",
    "            print(\"Waiting...\")\n",
    "\n",
    "\n",
    "\n",
    "def stop_thread1(self):\n",
    "    self.event_stop_thread1.set()\n",
    "    self.thread1.join()\n",
    "    self.thread1 = None\n",
    "    self.Real.b = np.empty( [0, 8] )\n",
    "    self.Real.Flag_Predict = False\n",
    "\n",
    "\n",
    "\n",
    "def disconnect_MYO(self):\n",
    "    print (\"attempting to Disconnect\")\n",
    "    self.Real.myo_device.services.vibrate( 1 )  # short vibration\n",
    "    # btle.Peripheral.disconnect()\n",
    "    self.Real.myo_device.services.disconnect_MYO()\n",
    "    print (\"Successfully Disconnected\")\n",
    "\n",
    "###########################################################################################################3\n"
   ]
  }
 ],
 "metadata": {
  "kernelspec": {
   "display_name": "Python 2",
   "language": "python",
   "name": "python2"
  },
  "language_info": {
   "codemirror_mode": {
    "name": "ipython",
    "version": 2
   },
   "file_extension": ".py",
   "mimetype": "text/x-python",
   "name": "python",
   "nbconvert_exporter": "python",
   "pygments_lexer": "ipython2",
   "version": "2.7.10"
  }
 },
 "nbformat": 4,
 "nbformat_minor": 2
}
