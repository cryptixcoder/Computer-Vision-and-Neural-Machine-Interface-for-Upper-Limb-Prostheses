{
 "cells": [
  {
   "cell_type": "code",
   "execution_count": null,
   "metadata": {},
   "outputs": [],
   "source": [
    "import threading\n",
    "import RealTime\n",
    "import poweroff\n",
    "#EMG ############################################################################################################\n",
    "## All you have to do is to Real.start_MYO() then call start_thread1 to start threading smoothly\n",
    "Real = RealTime.RealTime()\n",
    "\n",
    "# self.Real.set_GP_instance(self)\n",
    "Power = poweroff.poweroff()\n",
    "thread1 = None\n",
    "thread2 = None\n",
    "event_stop_thread1 = threading.Event()\n",
    "event_stop_thread2 = threading.Event()\n",
    "\n",
    "\n",
    "def start_thread1():\n",
    "    Real.Flag_predict = True\n",
    "    Real.b = np.empty( [0, 8] )\n",
    "    event_stop_thread1.clear()\n",
    "    thread1 = threading.Thread( target=loop1 )\n",
    "    thread1.start()\n",
    "\n",
    "\n",
    "\n",
    "def loop1():\n",
    "    while not event_stop_thread1.is_set():\n",
    "        # if not self.stop_threads.is_set():\n",
    "        if Real.myo_device.services.waitForNotifications( 1 ):\n",
    "            print(Real.predictions_array)\n",
    "        else:\n",
    "            print(\"Waiting...\")\n",
    "\n",
    "\n",
    "\n",
    "def stop_thread1():\n",
    "    event_stop_thread1.set()\n",
    "    thread1.join()\n",
    "    thread1 = None\n",
    "    Real.b = np.empty( [0, 8] )\n",
    "    Real.Flag_Predict = False\n",
    "\n",
    "\n",
    "#Real.start_MYO()\n",
    "#start_thread1()\n",
    "###########################################################################################################3\n"
   ]
  }
 ],
 "metadata": {
  "kernelspec": {
   "display_name": "Python 2",
   "language": "python",
   "name": "python2"
  },
  "language_info": {
   "codemirror_mode": {
    "name": "ipython",
    "version": 2
   },
   "file_extension": ".py",
   "mimetype": "text/x-python",
   "name": "python",
   "nbconvert_exporter": "python",
   "pygments_lexer": "ipython2",
   "version": "2.7.10"
  }
 },
 "nbformat": 4,
 "nbformat_minor": 2
}
